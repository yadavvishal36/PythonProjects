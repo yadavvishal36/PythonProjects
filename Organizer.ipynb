{
 "cells": [
  {
   "cell_type": "markdown",
   "metadata": {},
   "source": [
    "# FILE ORGANIZER \n"
   ]
  },
  {
   "cell_type": "code",
   "execution_count": 2,
   "metadata": {},
   "outputs": [
    {
     "name": "stdout",
     "output_type": "stream",
     "text": [
      "Files have been organized!\n"
     ]
    }
   ],
   "source": [
    "import os\n",
    "\n",
    "def organize_files(directory):\n",
    "    is_windows = os.name == 'nt'\n",
    "    file_types = {\n",
    "        'Videos': ['.mp4', '.mkv', '.avi', '.mov'],\n",
    "        'Audios': ['.mp3', '.wav', '.aac', '.flac'],\n",
    "        'Images': ['.jpg', '.jpeg', '.png', '.gif', '.bmp'],\n",
    "        'Documents': ['.pdf', '.doc', '.docx', '.xls', '.xlsx', '.ppt', '.pptx', '.txt'],\n",
    "        'Misc': []\n",
    "    }\n",
    "    for folder in file_types.keys():\n",
    "        folder_path = os.path.join(directory, folder)\n",
    "        if not os.path.exists(folder_path):\n",
    "            os.makedirs(folder_path)\n",
    "    for file_name in os.listdir(directory):\n",
    "        file_path = os.path.join(directory, file_name)\n",
    "        # Skip directories\n",
    "        if os.path.isdir(file_path):\n",
    "            continue\n",
    "        \n",
    "        file_extension = os.path.splitext(file_name)[1].lower()\n",
    "        moved = False\n",
    "        for folder, extensions in file_types.items():\n",
    "            if file_extension in extensions:\n",
    "                destination = os.path.join(directory, folder, file_name)\n",
    "                \n",
    "                if not os.path.exists(destination):\n",
    "                    if is_windows:\n",
    "                        os.system(f'move \"{file_path}\" \"{destination}\"')\n",
    "                    else:\n",
    "                        os.system(f'mv \"{file_path}\" \"{destination}\"')\n",
    "                moved = True\n",
    "                break\n",
    "        \n",
    "        if not moved:\n",
    "            misc_destination = os.path.join(directory, 'Misc', file_name)\n",
    "            if not os.path.exists(misc_destination):\n",
    "                if is_windows:\n",
    "                    os.system(f'move \"{file_path}\" \"{misc_destination}\"')\n",
    "                else:\n",
    "                    os.system(f'mv \"{file_path}\" \"{misc_destination}\"')\n",
    "    print(\"Files have been organized!\") #Example usage\n",
    "\n",
    "\n",
    "if __name__ == \"__main__\":\n",
    "    user_input = input(\"Enter the directory path to organize: \")\n",
    "    if os.path.exists(user_input):\n",
    "        organize_files(user_input)\n",
    "    else:\n",
    "        print(\"Invalid directory path!\")\n",
    "         \n"
   ]
  },
  {
   "cell_type": "code",
   "execution_count": null,
   "metadata": {},
   "outputs": [],
   "source": []
  }
 ],
 "metadata": {
  "kernelspec": {
   "display_name": "Python 3",
   "language": "python",
   "name": "python3"
  },
  "language_info": {
   "codemirror_mode": {
    "name": "ipython",
    "version": 3
   },
   "file_extension": ".py",
   "mimetype": "text/x-python",
   "name": "python",
   "nbconvert_exporter": "python",
   "pygments_lexer": "ipython3",
   "version": "3.12.4"
  }
 },
 "nbformat": 4,
 "nbformat_minor": 2
}
